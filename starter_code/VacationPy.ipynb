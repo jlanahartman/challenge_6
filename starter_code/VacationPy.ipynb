{
 "cells": [
  {
   "cell_type": "markdown",
   "metadata": {},
   "source": [
    "# VacationPy\n",
    "---\n",
    "\n",
    "## Starter Code to Import Libraries and Load the Weather and Coordinates Data"
   ]
  },
  {
   "cell_type": "code",
   "execution_count": 20,
   "metadata": {},
   "outputs": [],
   "source": [
    "# Dependencies and Setup\n",
    "import hvplot.pandas\n",
    "import pandas as pd\n",
    "import requests\n",
    "\n",
    "# Import API key\n",
    "from api_keys import geoapify_key"
   ]
  },
  {
   "cell_type": "code",
   "execution_count": 21,
   "metadata": {},
   "outputs": [
    {
     "data": {
      "text/html": [
       "<div>\n",
       "<style scoped>\n",
       "    .dataframe tbody tr th:only-of-type {\n",
       "        vertical-align: middle;\n",
       "    }\n",
       "\n",
       "    .dataframe tbody tr th {\n",
       "        vertical-align: top;\n",
       "    }\n",
       "\n",
       "    .dataframe thead th {\n",
       "        text-align: right;\n",
       "    }\n",
       "</style>\n",
       "<table border=\"1\" class=\"dataframe\">\n",
       "  <thead>\n",
       "    <tr style=\"text-align: right;\">\n",
       "      <th></th>\n",
       "      <th>City_ID</th>\n",
       "      <th>City</th>\n",
       "      <th>Lat</th>\n",
       "      <th>Lng</th>\n",
       "      <th>Max Temp</th>\n",
       "      <th>Humidity</th>\n",
       "      <th>Cloudiness</th>\n",
       "      <th>Wind Speed</th>\n",
       "      <th>Country</th>\n",
       "      <th>Date</th>\n",
       "    </tr>\n",
       "  </thead>\n",
       "  <tbody>\n",
       "    <tr>\n",
       "      <th>0</th>\n",
       "      <td>0</td>\n",
       "      <td>hamilton</td>\n",
       "      <td>39.1834</td>\n",
       "      <td>-84.5333</td>\n",
       "      <td>63.23</td>\n",
       "      <td>50</td>\n",
       "      <td>0</td>\n",
       "      <td>8.05</td>\n",
       "      <td>US</td>\n",
       "      <td>1682612172</td>\n",
       "    </tr>\n",
       "    <tr>\n",
       "      <th>1</th>\n",
       "      <td>1</td>\n",
       "      <td>adamstown</td>\n",
       "      <td>-25.0660</td>\n",
       "      <td>-130.1015</td>\n",
       "      <td>74.32</td>\n",
       "      <td>70</td>\n",
       "      <td>99</td>\n",
       "      <td>4.56</td>\n",
       "      <td>PN</td>\n",
       "      <td>1682612173</td>\n",
       "    </tr>\n",
       "    <tr>\n",
       "      <th>2</th>\n",
       "      <td>2</td>\n",
       "      <td>saipan</td>\n",
       "      <td>15.1355</td>\n",
       "      <td>145.7010</td>\n",
       "      <td>81.30</td>\n",
       "      <td>89</td>\n",
       "      <td>40</td>\n",
       "      <td>16.11</td>\n",
       "      <td>MP</td>\n",
       "      <td>1682612174</td>\n",
       "    </tr>\n",
       "    <tr>\n",
       "      <th>3</th>\n",
       "      <td>3</td>\n",
       "      <td>atafu village</td>\n",
       "      <td>-8.5421</td>\n",
       "      <td>-172.5159</td>\n",
       "      <td>83.52</td>\n",
       "      <td>74</td>\n",
       "      <td>84</td>\n",
       "      <td>9.57</td>\n",
       "      <td>TK</td>\n",
       "      <td>1682612176</td>\n",
       "    </tr>\n",
       "    <tr>\n",
       "      <th>4</th>\n",
       "      <td>4</td>\n",
       "      <td>hermanus</td>\n",
       "      <td>-34.4187</td>\n",
       "      <td>19.2345</td>\n",
       "      <td>63.81</td>\n",
       "      <td>78</td>\n",
       "      <td>79</td>\n",
       "      <td>10.16</td>\n",
       "      <td>ZA</td>\n",
       "      <td>1682612177</td>\n",
       "    </tr>\n",
       "  </tbody>\n",
       "</table>\n",
       "</div>"
      ],
      "text/plain": [
       "   City_ID           City      Lat       Lng  Max Temp  Humidity  Cloudiness  \\\n",
       "0        0       hamilton  39.1834  -84.5333     63.23        50           0   \n",
       "1        1      adamstown -25.0660 -130.1015     74.32        70          99   \n",
       "2        2         saipan  15.1355  145.7010     81.30        89          40   \n",
       "3        3  atafu village  -8.5421 -172.5159     83.52        74          84   \n",
       "4        4       hermanus -34.4187   19.2345     63.81        78          79   \n",
       "\n",
       "   Wind Speed Country        Date  \n",
       "0        8.05      US  1682612172  \n",
       "1        4.56      PN  1682612173  \n",
       "2       16.11      MP  1682612174  \n",
       "3        9.57      TK  1682612176  \n",
       "4       10.16      ZA  1682612177  "
      ]
     },
     "execution_count": 21,
     "metadata": {},
     "output_type": "execute_result"
    }
   ],
   "source": [
    "# Load the CSV file created in Part 1 into a Pandas DataFrame\n",
    "city_data_df = pd.read_csv(\"../output_data/cities.csv\")\n",
    "\n",
    "# Display sample data\n",
    "city_data_df.head()"
   ]
  },
  {
   "cell_type": "markdown",
   "metadata": {},
   "source": [
    "---\n",
    "\n",
    "### Step 1: Create a map that displays a point for every city in the `city_data_df` DataFrame. The size of the point should be the humidity in each city."
   ]
  },
  {
   "cell_type": "code",
   "execution_count": 22,
   "metadata": {},
   "outputs": [
    {
     "data": {},
     "metadata": {},
     "output_type": "display_data"
    },
    {
     "data": {
      "application/vnd.holoviews_exec.v0+json": "",
      "text/html": [
       "<div id='1409'>\n",
       "  <div class=\"bk-root\" id=\"b6730a81-4721-4508-beee-66616d285643\" data-root-id=\"1409\"></div>\n",
       "</div>\n",
       "<script type=\"application/javascript\">(function(root) {\n",
       "  function embed_document(root) {\n",
       "    var docs_json = {\"aad312d0-1cff-44d4-a41e-19da43daff1d\":{\"defs\":[{\"extends\":null,\"module\":null,\"name\":\"ReactiveHTML1\",\"overrides\":[],\"properties\":[]},{\"extends\":null,\"module\":null,\"name\":\"FlexBox1\",\"overrides\":[],\"properties\":[{\"default\":\"flex-start\",\"kind\":null,\"name\":\"align_content\"},{\"default\":\"flex-start\",\"kind\":null,\"name\":\"align_items\"},{\"default\":\"row\",\"kind\":null,\"name\":\"flex_direction\"},{\"default\":\"wrap\",\"kind\":null,\"name\":\"flex_wrap\"},{\"default\":\"flex-start\",\"kind\":null,\"name\":\"justify_content\"}]},{\"extends\":null,\"module\":null,\"name\":\"GridStack1\",\"overrides\":[],\"properties\":[{\"default\":\"warn\",\"kind\":null,\"name\":\"mode\"},{\"default\":null,\"kind\":null,\"name\":\"ncols\"},{\"default\":null,\"kind\":null,\"name\":\"nrows\"},{\"default\":true,\"kind\":null,\"name\":\"allow_resize\"},{\"default\":true,\"kind\":null,\"name\":\"allow_drag\"},{\"default\":[],\"kind\":null,\"name\":\"state\"}]},{\"extends\":null,\"module\":null,\"name\":\"click1\",\"overrides\":[],\"properties\":[{\"default\":\"\",\"kind\":null,\"name\":\"terminal_output\"},{\"default\":\"\",\"kind\":null,\"name\":\"debug_name\"},{\"default\":0,\"kind\":null,\"name\":\"clears\"}]},{\"extends\":null,\"module\":null,\"name\":\"NotificationAreaBase1\",\"overrides\":[],\"properties\":[{\"default\":\"bottom-right\",\"kind\":null,\"name\":\"position\"},{\"default\":0,\"kind\":null,\"name\":\"_clear\"}]},{\"extends\":null,\"module\":null,\"name\":\"NotificationArea1\",\"overrides\":[],\"properties\":[{\"default\":[],\"kind\":null,\"name\":\"notifications\"},{\"default\":\"bottom-right\",\"kind\":null,\"name\":\"position\"},{\"default\":0,\"kind\":null,\"name\":\"_clear\"},{\"default\":[{\"background\":\"#ffc107\",\"icon\":{\"className\":\"fas fa-exclamation-triangle\",\"color\":\"white\",\"tagName\":\"i\"},\"type\":\"warning\"},{\"background\":\"#007bff\",\"icon\":{\"className\":\"fas fa-info-circle\",\"color\":\"white\",\"tagName\":\"i\"},\"type\":\"info\"}],\"kind\":null,\"name\":\"types\"}]},{\"extends\":null,\"module\":null,\"name\":\"Notification\",\"overrides\":[],\"properties\":[{\"default\":null,\"kind\":null,\"name\":\"background\"},{\"default\":3000,\"kind\":null,\"name\":\"duration\"},{\"default\":null,\"kind\":null,\"name\":\"icon\"},{\"default\":\"\",\"kind\":null,\"name\":\"message\"},{\"default\":null,\"kind\":null,\"name\":\"notification_type\"},{\"default\":false,\"kind\":null,\"name\":\"_destroyed\"}]},{\"extends\":null,\"module\":null,\"name\":\"TemplateActions1\",\"overrides\":[],\"properties\":[{\"default\":0,\"kind\":null,\"name\":\"open_modal\"},{\"default\":0,\"kind\":null,\"name\":\"close_modal\"}]},{\"extends\":null,\"module\":null,\"name\":\"MaterialTemplateActions1\",\"overrides\":[],\"properties\":[{\"default\":0,\"kind\":null,\"name\":\"open_modal\"},{\"default\":0,\"kind\":null,\"name\":\"close_modal\"}]}],\"roots\":{\"references\":[{\"attributes\":{\"fill_alpha\":{\"value\":0.2},\"fill_color\":{\"field\":\"color\",\"transform\":{\"id\":\"1485\"}},\"hatch_alpha\":{\"value\":0.2},\"hatch_color\":{\"field\":\"color\",\"transform\":{\"id\":\"1485\"}},\"line_alpha\":{\"value\":0.2},\"line_color\":{\"field\":\"color\",\"transform\":{\"id\":\"1485\"}},\"size\":{\"field\":\"size\"},\"x\":{\"field\":\"Lng\"},\"y\":{\"field\":\"Lat\"}},\"id\":\"1493\",\"type\":\"Scatter\"},{\"attributes\":{},\"id\":\"1440\",\"type\":\"PanTool\"},{\"attributes\":{\"margin\":[5,5,5,5],\"name\":\"HSpacer01990\",\"sizing_mode\":\"stretch_width\"},\"id\":\"1410\",\"type\":\"Spacer\"},{\"attributes\":{\"label\":{\"field\":\"color\"},\"renderers\":[{\"id\":\"1494\"}]},\"id\":\"1503\",\"type\":\"LegendItem\"},{\"attributes\":{\"axis_label\":\"y\",\"coordinates\":null,\"formatter\":{\"id\":\"1457\"},\"group\":null,\"major_label_policy\":{\"id\":\"1467\"},\"ticker\":{\"id\":\"1456\"}},\"id\":\"1435\",\"type\":\"LinearAxis\"},{\"attributes\":{\"axis\":{\"id\":\"1435\"},\"coordinates\":null,\"dimension\":1,\"grid_line_color\":null,\"group\":null,\"ticker\":null},\"id\":\"1438\",\"type\":\"Grid\"},{\"attributes\":{\"dimension\":\"lat\"},\"id\":\"1456\",\"type\":\"MercatorTicker\"},{\"attributes\":{\"zoom_on_axis\":false},\"id\":\"1441\",\"type\":\"WheelZoomTool\"},{\"attributes\":{\"coordinates\":null,\"data_source\":{\"id\":\"1486\"},\"glyph\":{\"id\":\"1489\"},\"group\":null,\"hover_glyph\":{\"id\":\"1492\"},\"muted_glyph\":{\"id\":\"1493\"},\"nonselection_glyph\":{\"id\":\"1490\"},\"selection_glyph\":{\"id\":\"1491\"},\"view\":{\"id\":\"1495\"}},\"id\":\"1494\",\"type\":\"GlyphRenderer\"},{\"attributes\":{\"dimension\":\"lon\"},\"id\":\"1455\",\"type\":\"MercatorTickFormatter\"},{\"attributes\":{\"dimension\":\"lon\"},\"id\":\"1454\",\"type\":\"MercatorTicker\"},{\"attributes\":{},\"id\":\"1467\",\"type\":\"AllLabels\"},{\"attributes\":{},\"id\":\"1427\",\"type\":\"LinearScale\"},{\"attributes\":{},\"id\":\"1429\",\"type\":\"LinearScale\"},{\"attributes\":{\"axis_label\":\"x\",\"coordinates\":null,\"formatter\":{\"id\":\"1455\"},\"group\":null,\"major_label_policy\":{\"id\":\"1460\"},\"ticker\":{\"id\":\"1454\"}},\"id\":\"1431\",\"type\":\"LinearAxis\"},{\"attributes\":{\"margin\":[5,5,5,5],\"name\":\"HSpacer01991\",\"sizing_mode\":\"stretch_width\"},\"id\":\"1512\",\"type\":\"Spacer\"},{\"attributes\":{\"fill_alpha\":{\"value\":0.7},\"fill_color\":{\"field\":\"color\",\"transform\":{\"id\":\"1485\"}},\"hatch_alpha\":{\"value\":0.7},\"hatch_color\":{\"field\":\"color\",\"transform\":{\"id\":\"1485\"}},\"line_alpha\":{\"value\":0.7},\"line_color\":{\"field\":\"color\",\"transform\":{\"id\":\"1485\"}},\"size\":{\"field\":\"size\"},\"x\":{\"field\":\"Lng\"},\"y\":{\"field\":\"Lat\"}},\"id\":\"1489\",\"type\":\"Scatter\"},{\"attributes\":{\"callback\":null,\"formatters\":{\"$x\":{\"id\":\"1504\"},\"$y\":{\"id\":\"1505\"}},\"renderers\":[{\"id\":\"1494\"}],\"tags\":[\"hv_created\"],\"tooltips\":[[\"Lng\",\"$x{custom}\"],[\"Lat\",\"$y{custom}\"],[\"City\",\"@{City}\"],[\"Humidity\",\"@{Humidity}\"]]},\"id\":\"1419\",\"type\":\"HoverTool\"},{\"attributes\":{\"tools\":[{\"id\":\"1419\"},{\"id\":\"1439\"},{\"id\":\"1440\"},{\"id\":\"1441\"},{\"id\":\"1442\"},{\"id\":\"1443\"}]},\"id\":\"1445\",\"type\":\"Toolbar\"},{\"attributes\":{\"children\":[{\"id\":\"1410\"},{\"id\":\"1422\"},{\"id\":\"1512\"}],\"margin\":[0,0,0,0],\"name\":\"Row01986\",\"tags\":[\"embedded\"]},\"id\":\"1409\",\"type\":\"Row\"},{\"attributes\":{},\"id\":\"1487\",\"type\":\"Selection\"},{\"attributes\":{\"fill_alpha\":{\"value\":0.7},\"fill_color\":{\"field\":\"color\",\"transform\":{\"id\":\"1485\"}},\"hatch_alpha\":{\"value\":0.7},\"hatch_color\":{\"field\":\"color\",\"transform\":{\"id\":\"1485\"}},\"line_alpha\":{\"value\":0.7},\"line_color\":{\"field\":\"color\",\"transform\":{\"id\":\"1485\"}},\"size\":{\"field\":\"size\"},\"x\":{\"field\":\"Lng\"},\"y\":{\"field\":\"Lat\"}},\"id\":\"1491\",\"type\":\"Scatter\"},{\"attributes\":{\"code\":\"\\n        var projections = Bokeh.require(\\\"core/util/projections\\\");\\n        var x = special_vars.data_x\\n        var y = special_vars.data_y\\n        var coords = projections.wgs84_mercator.invert(x, y)\\n        return \\\"\\\" + (coords[0]).toFixed(4)\\n    \"},\"id\":\"1504\",\"type\":\"CustomJSHover\"},{\"attributes\":{\"coordinates\":null,\"group\":null,\"level\":\"glyph\",\"tile_source\":{\"id\":\"1480\"}},\"id\":\"1483\",\"type\":\"TileRenderer\"},{\"attributes\":{\"factors\":[\"hamilton\",\"adamstown\",\"saipan\",\"atafu village\",\"hermanus\",\"yeed\",\"talnakh\",\"yellowknife\",\"limoeiro do norte\",\"waitangi\",\"fort bragg\",\"port-aux-francais\",\"west island\",\"holualoa\",\"qaqortoq\",\"vorgashor\",\"santiago de veraguas\",\"grytviken\",\"hanceville\",\"dunedin\",\"whitehorse\",\"bredasdorp\",\"badger\",\"spas-klepiki\",\"oriximina\",\"pacific grove\",\"morris\",\"anadyr\",\"nogliki\",\"vilyuysk\",\"jamestown\",\"ashland\",\"blackmans bay\",\"bethel\",\"lihue\",\"kurumkan\",\"albany\",\"puerto natales\",\"olonkinbyen\",\"swakopmund\",\"shetpe\",\"hami\",\"ribeira grande\",\"margaret river\",\"nemuro\",\"ust-nera\",\"rio grande\",\"paraipaba\",\"nadi\",\"iqaluit\",\"tazovsky\",\"edinburgh of the seven seas\",\"raja\",\"bocas del toro\",\"lompoc\",\"lebu\",\"tura\",\"mopti\",\"puerto ayora\",\"saint-joseph\",\"alice springs\",\"griffith\",\"urzhar\",\"selfoss\",\"redencao\",\"mata-utu\",\"viedma\",\"port elizabeth\",\"kirensk\",\"iskateley\",\"as sanad\",\"invercargill\",\"nar'yan-mar\",\"sao gabriel da cachoeira\",\"haiku-pauwela\",\"la rinconada\",\"tsiombe\",\"ovalle\",\"santa ana\",\"happy valley-goose bay\",\"rongelap\",\"cidade velha\",\"new plymouth\",\"uturoa\",\"ganye\",\"marsassoum\",\"nabire\",\"port mathurin\",\"praia da vitoria\",\"marka\",\"klyuchi\",\"kerikeri\",\"longyearbyen\",\"san antonio de pale\",\"howard springs\",\"toliara\",\"stanley\",\"vyalikaya byerastavitsa\",\"flin flon\",\"sovetskiy\",\"dudinka\",\"zaxo\",\"san patricio\",\"otjimbingwe\",\"altai\",\"el bauga\",\"kaohsiung\",\"zaragoza\",\"camayenne\",\"noumea\",\"ma'rib\",\"tamandare\",\"sur\",\"constantia\",\"piwniczna-zdroj\",\"college\",\"sao joao da barra\",\"melekeok village\",\"bonthe\",\"gulariya\",\"leh\",\"kingston\",\"georgetown\",\"wewak\",\"minas de marcona\",\"afaahiti\",\"udachny\",\"salinas\",\"beyneu\",\"mrkonjic grad\",\"petropavlovsk-kamchatsky\",\"vadso\",\"bilibino\",\"tiksi\",\"shinkafi\",\"arar\",\"tokmok\",\"hanzhong\",\"thompson\",\"ilulissat\",\"nova sintra\",\"grand falls-windsor\",\"vicencia\",\"mil'kovo\",\"boca chica\",\"zemio\",\"susanville\",\"kristiansund\",\"la passe\",\"port augusta\",\"la huerta\",\"ji'an\",\"clearfield\",\"tazacorte\",\"kodiak\",\"mhamid\",\"akrehamn\",\"papatowai\",\"kailua-kona\",\"silvassa\",\"lata\",\"ciudad lazaro cardenas\",\"hampton bays\",\"la'ie\",\"arawa\",\"serres\",\"la cruz\",\"ponta delgada\",\"fort mcmurray\",\"ushuaia\",\"namibe\",\"reggane\",\"krutinka\",\"kapa'a\",\"moratuwa\",\"tofol\",\"tete\",\"yuzhno-kurilsk\",\"trogir\",\"makoua\",\"khorixas\",\"petropavlovka\",\"wailua homesteads\",\"crane\",\"colonia\",\"tolanaro\",\"bamyan\",\"mount pearl\",\"dawson creek\",\"avarua\",\"villa yapacani\",\"psachna\",\"ola\",\"baruun-urt\",\"gantang\",\"queenstown\",\"kilinochchi\",\"tanda\",\"midvagur\",\"enewetak\",\"coracora\",\"dailekh\",\"dali\",\"mugia\",\"roma\",\"priargunsk\",\"copala\",\"choma\",\"opelousas\",\"hadibu\",\"dickinson\",\"ancud\",\"port saint john's\",\"hilo\",\"labytnangi\",\"shar\",\"belozersk\",\"businga\",\"cill airne\",\"aswan\",\"saldanha\",\"luderitz\",\"malegaon\",\"kish\",\"howrah\",\"carora\",\"klaksvik\",\"new norfolk\",\"bengkulu\",\"cacheu\",\"aasiaat\",\"illizi\",\"hawaiian paradise park\",\"hammerfest\",\"santa catarina juquila\",\"sisimiut\",\"codrington\",\"media luna\",\"yeppoon\",\"katsuren-haebaru\",\"manta\",\"frydlant\",\"silver city\",\"shushtar\",\"sosnovo-ozerskoye\",\"praya\",\"salekhard\",\"makungu\",\"zaozersk\",\"coahuayana de hidalgo\",\"nizhnyaya salda\",\"myanaung\",\"cabo san lucas\",\"ebon\",\"zhanibek\",\"pangody\",\"jacmel\",\"port alfred\",\"cururupu\",\"mahanje\",\"bel ombre\",\"namtsy\",\"eirunepe\",\"guerrero negro\",\"sines\",\"sundsvall\",\"punta arenas\",\"awjilah\",\"hithadhoo\",\"joplin\",\"labrador city\",\"esmeraldas\",\"chiredzi\",\"mount isa\",\"sept-iles\",\"ordynskoye\",\"prince rupert\",\"saint augustine beach\",\"kapuskasing\",\"yreka\",\"narvik\",\"isafjordur\",\"zeya\",\"al abyar\",\"gadzhiyevo\",\"skovorodino\",\"mana\",\"salalah\",\"erenhot\",\"cherepovets\",\"karratha\",\"kasungu\",\"touros\",\"bubaque\",\"meulaboh\",\"amga\",\"bodaybo\",\"utrik\",\"makokou\",\"minab\",\"belaya kholunitsa\",\"le port\",\"usogorsk\",\"remire-montjoly\",\"tweed heads\",\"kobayashi\",\"montepuez\",\"piacabucu\",\"khorinsk\",\"pont rouge\",\"daru\",\"susuman\",\"smithers\",\"pickering\",\"kone\",\"sao vicente\",\"rabo de peixe\",\"arno\",\"kolondieba\",\"freetown\",\"st. paul\",\"pyinmana\",\"xanxere\",\"saint-hippolyte\",\"sittwe\",\"berezovyy\",\"banda aceh\",\"aykhal\",\"balykshi\",\"yuci\",\"tual\",\"fuling\",\"weno\",\"limbazi\",\"pisco\",\"letlhakane\",\"rakops\",\"tyumentsevo\",\"mossel bay\",\"vernon\",\"inhambane\",\"inyonga\",\"mar del plata\",\"kindu\",\"zharkent\",\"mount gambier\",\"dengzhou\",\"katabu\",\"bayanaul\",\"bourgoin-jallieu\",\"camapua\",\"lerwick\",\"ostashkov\",\"yabelo\",\"yemel'yanovo\",\"san juan nepomuceno\",\"callaway\",\"tannum sands\",\"northam\",\"rudbar\",\"dalai\",\"sheridan\",\"bawshar\",\"leiyang\",\"ebaye\",\"kharan\",\"magadan\",\"nuuk\",\"coquimbo\",\"mubi\",\"kununurra\",\"bintulu\",\"makarov\",\"as sulayyil\",\"dul'durga\",\"oodweyne\",\"chonchi\",\"uliastay\",\"mumford\",\"pitogo\",\"nuku'alofa\",\"yigo village\",\"st. john's\",\"newman\",\"dolores\",\"pak chong\",\"iron river\",\"bordj ghdir\",\"prineville\",\"hailey\",\"al hasakah\",\"nova vicosa\",\"mocajuba\",\"villamontes\",\"arkhangel'sk\",\"kansk\",\"tianjin\",\"barra de santo antonio\",\"bouna\",\"mangrol\",\"port lincoln\",\"saraburi\",\"alofi\",\"batie\",\"piti village\",\"san pedro pochutla\",\"conception bay south\",\"cockburn town\",\"esil\",\"pechora\",\"edson\",\"fort st. john\",\"nefteyugansk\",\"yarmouth\",\"tongshan\",\"petoskey\",\"sangmelima\",\"flying fish cove\",\"ban mai\",\"sitka\",\"arua\",\"daltonganj\",\"nola\",\"chui\",\"ventnor\",\"pahrump\",\"lazaro cardenas\",\"webster city\",\"majene\",\"caleta de carquin\",\"kingaroy\",\"tindouf\",\"lionel town\",\"castillos\",\"macapa\",\"eyl\",\"usinsk\",\"buala\",\"saint-pierre\",\"acarau\",\"aragarcas\",\"banjar\",\"aginskoye\",\"nema\",\"chu\",\"nieuw amsterdam\",\"kaindy\",\"gamba\",\"fale old settlement\",\"langarud\",\"sao gabriel\",\"arraial do cabo\",\"houma\",\"paita\",\"tacuarembo\",\"owando\",\"la sarre\",\"khandyga\",\"ugoofaaru\",\"recani\",\"polyarnyy\",\"bahir dar\",\"olyokminsk\",\"anna regina\",\"yemva\",\"eisenstadt\",\"boundiali\",\"hafar al-batin\",\"kismayo\",\"saynshand\",\"egilsstadir\",\"puttalam\",\"pandan\",\"plastun\",\"aljustrel\",\"fort-shevchenko\",\"mooloolaba\",\"villa luvianos\",\"arzgir\",\"east london\",\"kambar\",\"shillong\",\"schiffdorf\",\"neryungri\",\"taishan\",\"pirallahi\",\"ciudad acuna\",\"tvoroyri\",\"karoi\",\"saint-denis\",\"tezu\",\"hotan\",\"kavaratti\",\"las vegas\",\"revda\",\"shimoda\",\"ndende\",\"portland\",\"dubbo\",\"beaufort\",\"nouadhibou\",\"aban\",\"iquique\",\"bayanhongor\",\"biryusinsk\",\"chadron\",\"margate\",\"aigues-mortes\",\"xilin hot\",\"tayshet\",\"fujin\",\"wynyard\",\"nguigmi\",\"antsiranana\",\"burhanpur\",\"at taj\",\"bardai\",\"san fernando de apure\",\"kidal\",\"gillette\",\"abepura\",\"arrifes\",\"bereeda\",\"brookings\",\"greymouth\",\"kudahuvadhoo\",\"puerto san jose\",\"mahibadhoo\",\"dryden\",\"fomboni\",\"bikenibeu village\",\"al kharijah\",\"port-gentil\",\"mejit\",\"port macquarie\",\"villa gesell\",\"tabuk\",\"sarupathar\",\"porbandar\",\"cumaral\",\"beyla\",\"myitkyina\",\"ust'-uda\",\"pangkalanbuun\",\"hasaki\",\"san fernando\",\"tateyama\",\"douz\",\"merowe\",\"skole\",\"luba\",\"harstad\",\"la peca\",\"znamenskoye\",\"vila franca do campo\",\"kavieng\",\"hirara\",\"chabahar\",\"idri\",\"krasnoarmeysk\",\"nagqu\",\"vorkuta\",\"kangding\",\"okhotsk\",\"mariestad\",\"keren\"],\"palette\":[\"#1f77b3\",\"#ff7e0e\",\"#2ba02b\",\"#d62628\",\"#9367bc\",\"#8c564b\",\"#e277c1\",\"#7e7e7e\",\"#bcbc21\",\"#16bdcf\",\"#3a0182\",\"#004201\",\"#0fffa8\",\"#5d003f\",\"#bcbcff\",\"#d8afa1\",\"#b80080\",\"#004d52\",\"#6b6400\",\"#7c0100\",\"#6026ff\",\"#ffff9a\",\"#564964\",\"#8cb893\",\"#93fbff\",\"#018267\",\"#90ff00\",\"#8200a0\",\"#ac8944\",\"#5b3400\",\"#ffbff2\",\"#ff6e75\",\"#798cff\",\"#dd00ff\",\"#505646\",\"#004489\",\"#ffbf60\",\"#ff018c\",\"#bdc8cf\",\"#af97b5\",\"#b65600\",\"#017000\",\"#cd87ff\",\"#1cd646\",\"#bfebc3\",\"#7997b5\",\"#a56089\",\"#6e8956\",\"#bc7c75\",\"#8a2844\",\"#00acff\",\"#8ed4ff\",\"#4b6d77\",\"#00d4b1\",\"#9300f2\",\"#8a9500\",\"#5d5b9e\",\"#fddfba\",\"#00939e\",\"#ffdb00\",\"#00aa79\",\"#520067\",\"#000091\",\"#0a5d3d\",\"#a5e275\",\"#623b41\",\"#c6c689\",\"#ff9eb5\",\"#cd4f6b\",\"#ff07d6\",\"#8a3a05\",\"#7e3d70\",\"#ff4901\",\"#602ba5\",\"#1c00ff\",\"#e6dfff\",\"#aa3baf\",\"#d89c00\",\"#a3a39e\",\"#3f69ff\",\"#46490c\",\"#7b6985\",\"#6b978c\",\"#ff9a75\",\"#835bff\",\"#7c6b46\",\"#80b654\",\"#bc0049\",\"#fd93ff\",\"#5d0018\",\"#89d1d1\",\"#9c8cd3\",\"#da6d42\",\"#8a5700\",\"#3b5069\",\"#4b6b3b\",\"#edcfd8\",\"#cfedff\",\"#aa1500\",\"#dfff4f\",\"#ff2a56\",\"#d1499e\",\"#707cb8\",\"#598000\",\"#00e4fd\",\"#774b95\",\"#67d48c\",\"#3d3a72\",\"#ac413f\",\"#d6a166\",\"#c169cd\",\"#69595d\",\"#87aced\",\"#a0a569\",\"#d1aae6\",\"#870062\",\"#00fddb\",\"#672818\",\"#b342ff\",\"#0e59c4\",\"#168742\",\"#90d300\",\"#cd7900\",\"#f959ff\",\"#5b7466\",\"#8eaeb3\",\"#9c7c8c\",\"#4600c6\",\"#6b4d2d\",\"#a56d46\",\"#9e8972\",\"#a8afca\",\"#cd8ca7\",\"#00fd64\",\"#917900\",\"#ff62a1\",\"#f4ffd8\",\"#018cf0\",\"#13aca0\",\"#5b2d59\",\"#89859e\",\"#cfccba\",\"#d4afc4\",\"#dbdd6d\",\"#cffff4\",\"#006485\",\"#006962\",\"#a84167\",\"#2d97c4\",\"#a874ff\",\"#26ba5d\",\"#57b600\",\"#caffa7\",\"#a379aa\",\"#ffbc93\",\"#89e2c1\",\"#0fc8ff\",\"#d400c4\",\"#626d89\",\"#69858e\",\"#4b4d52\",\"#aa6067\",\"#79b5d4\",\"#2b5916\",\"#9a0024\",\"#bdd1f2\",\"#896e67\",\"#69a56b\",\"#855467\",\"#aecdba\",\"#87997e\",\"#cadb00\",\"#9a0390\",\"#ebbc1a\",\"#eb9cd1\",\"#70006e\",\"#b1a131\",\"#ca6b93\",\"#4146a3\",\"#e48c89\",\"#d44400\",\"#c68aca\",\"#b69597\",\"#d41f75\",\"#724bcc\",\"#674d00\",\"#672138\",\"#38564f\",\"#6ebaaa\",\"#853a31\",\"#a5d397\",\"#b8af8e\",\"#d8e4df\",\"#aa00df\",\"#cac1db\",\"#ffdf8c\",\"#e2524d\",\"#66696e\",\"#ff001c\",\"#522d72\",\"#4d906b\",\"#a86d11\",\"#ff9e26\",\"#5ea3af\",\"#c88556\",\"#915997\",\"#a3a1ff\",\"#fdbaba\",\"#242a87\",\"#dbe6a8\",\"#97f2a7\",\"#6793d6\",\"#ba5b3f\",\"#3a5d91\",\"#364f2f\",\"#267c95\",\"#89959a\",\"#cfb356\",\"#004664\",\"#5e5d2f\",\"#8e8e41\",\"#ac3f13\",\"#69953b\",\"#a13d85\",\"#bfb6ba\",\"#acc667\",\"#6469cf\",\"#91af00\",\"#2be2da\",\"#016e36\",\"#ff7952\",\"#42807e\",\"#4fe800\",\"#995428\",\"#5d0a00\",\"#a30057\",\"#0c8700\",\"#5982a7\",\"#ffebfb\",\"#4b6901\",\"#8775d4\",\"#e6c6ff\",\"#a5ffda\",\"#d86e77\",\"#df014b\",\"#69675b\",\"#776ba1\",\"#7e8067\",\"#594685\",\"#0000ca\",\"#7c002a\",\"#97ff72\",\"#b5e2e1\",\"#db52c8\",\"#777734\",\"#57bd8e\",\"#1f77b3\",\"#ff7e0e\",\"#2ba02b\",\"#d62628\",\"#9367bc\",\"#8c564b\",\"#e277c1\",\"#7e7e7e\",\"#bcbc21\",\"#16bdcf\",\"#3a0182\",\"#004201\",\"#0fffa8\",\"#5d003f\",\"#bcbcff\",\"#d8afa1\",\"#b80080\",\"#004d52\",\"#6b6400\",\"#7c0100\",\"#6026ff\",\"#ffff9a\",\"#564964\",\"#8cb893\",\"#93fbff\",\"#018267\",\"#90ff00\",\"#8200a0\",\"#ac8944\",\"#5b3400\",\"#ffbff2\",\"#ff6e75\",\"#798cff\",\"#dd00ff\",\"#505646\",\"#004489\",\"#ffbf60\",\"#ff018c\",\"#bdc8cf\",\"#af97b5\",\"#b65600\",\"#017000\",\"#cd87ff\",\"#1cd646\",\"#bfebc3\",\"#7997b5\",\"#a56089\",\"#6e8956\",\"#bc7c75\",\"#8a2844\",\"#00acff\",\"#8ed4ff\",\"#4b6d77\",\"#00d4b1\",\"#9300f2\",\"#8a9500\",\"#5d5b9e\",\"#fddfba\",\"#00939e\",\"#ffdb00\",\"#00aa79\",\"#520067\",\"#000091\",\"#0a5d3d\",\"#a5e275\",\"#623b41\",\"#c6c689\",\"#ff9eb5\",\"#cd4f6b\",\"#ff07d6\",\"#8a3a05\",\"#7e3d70\",\"#ff4901\",\"#602ba5\",\"#1c00ff\",\"#e6dfff\",\"#aa3baf\",\"#d89c00\",\"#a3a39e\",\"#3f69ff\",\"#46490c\",\"#7b6985\",\"#6b978c\",\"#ff9a75\",\"#835bff\",\"#7c6b46\",\"#80b654\",\"#bc0049\",\"#fd93ff\",\"#5d0018\",\"#89d1d1\",\"#9c8cd3\",\"#da6d42\",\"#8a5700\",\"#3b5069\",\"#4b6b3b\",\"#edcfd8\",\"#cfedff\",\"#aa1500\",\"#dfff4f\",\"#ff2a56\",\"#d1499e\",\"#707cb8\",\"#598000\",\"#00e4fd\",\"#774b95\",\"#67d48c\",\"#3d3a72\",\"#ac413f\",\"#d6a166\",\"#c169cd\",\"#69595d\",\"#87aced\",\"#a0a569\",\"#d1aae6\",\"#870062\",\"#00fddb\",\"#672818\",\"#b342ff\",\"#0e59c4\",\"#168742\",\"#90d300\",\"#cd7900\",\"#f959ff\",\"#5b7466\",\"#8eaeb3\",\"#9c7c8c\",\"#4600c6\",\"#6b4d2d\",\"#a56d46\",\"#9e8972\",\"#a8afca\",\"#cd8ca7\",\"#00fd64\",\"#917900\",\"#ff62a1\",\"#f4ffd8\",\"#018cf0\",\"#13aca0\",\"#5b2d59\",\"#89859e\",\"#cfccba\",\"#d4afc4\",\"#dbdd6d\",\"#cffff4\",\"#006485\",\"#006962\",\"#a84167\",\"#2d97c4\",\"#a874ff\",\"#26ba5d\",\"#57b600\",\"#caffa7\",\"#a379aa\",\"#ffbc93\",\"#89e2c1\",\"#0fc8ff\",\"#d400c4\",\"#626d89\",\"#69858e\",\"#4b4d52\",\"#aa6067\",\"#79b5d4\",\"#2b5916\",\"#9a0024\",\"#bdd1f2\",\"#896e67\",\"#69a56b\",\"#855467\",\"#aecdba\",\"#87997e\",\"#cadb00\",\"#9a0390\",\"#ebbc1a\",\"#eb9cd1\",\"#70006e\",\"#b1a131\",\"#ca6b93\",\"#4146a3\",\"#e48c89\",\"#d44400\",\"#c68aca\",\"#b69597\",\"#d41f75\",\"#724bcc\",\"#674d00\",\"#672138\",\"#38564f\",\"#6ebaaa\",\"#853a31\",\"#a5d397\",\"#b8af8e\",\"#d8e4df\",\"#aa00df\",\"#cac1db\",\"#ffdf8c\",\"#e2524d\",\"#66696e\",\"#ff001c\",\"#522d72\",\"#4d906b\",\"#a86d11\",\"#ff9e26\",\"#5ea3af\",\"#c88556\",\"#915997\",\"#a3a1ff\",\"#fdbaba\",\"#242a87\",\"#dbe6a8\",\"#97f2a7\",\"#6793d6\",\"#ba5b3f\",\"#3a5d91\",\"#364f2f\",\"#267c95\",\"#89959a\",\"#cfb356\",\"#004664\",\"#5e5d2f\",\"#8e8e41\",\"#ac3f13\",\"#69953b\",\"#a13d85\",\"#bfb6ba\",\"#acc667\",\"#6469cf\",\"#91af00\",\"#2be2da\",\"#016e36\",\"#ff7952\",\"#42807e\",\"#4fe800\",\"#995428\",\"#5d0a00\",\"#a30057\",\"#0c8700\",\"#5982a7\",\"#ffebfb\",\"#4b6901\",\"#8775d4\",\"#e6c6ff\",\"#a5ffda\",\"#d86e77\",\"#df014b\",\"#69675b\",\"#776ba1\",\"#7e8067\",\"#594685\",\"#0000ca\",\"#7c002a\",\"#97ff72\",\"#b5e2e1\",\"#db52c8\",\"#777734\",\"#57bd8e\",\"#1f77b3\",\"#ff7e0e\",\"#2ba02b\",\"#d62628\",\"#9367bc\",\"#8c564b\",\"#e277c1\",\"#7e7e7e\",\"#bcbc21\",\"#16bdcf\",\"#3a0182\",\"#004201\",\"#0fffa8\",\"#5d003f\",\"#bcbcff\",\"#d8afa1\",\"#b80080\",\"#004d52\",\"#6b6400\",\"#7c0100\",\"#6026ff\",\"#ffff9a\",\"#564964\",\"#8cb893\",\"#93fbff\",\"#018267\",\"#90ff00\",\"#8200a0\",\"#ac8944\",\"#5b3400\",\"#ffbff2\",\"#ff6e75\",\"#798cff\",\"#dd00ff\",\"#505646\",\"#004489\",\"#ffbf60\",\"#ff018c\",\"#bdc8cf\",\"#af97b5\",\"#b65600\",\"#017000\",\"#cd87ff\",\"#1cd646\",\"#bfebc3\",\"#7997b5\",\"#a56089\",\"#6e8956\",\"#bc7c75\",\"#8a2844\",\"#00acff\",\"#8ed4ff\",\"#4b6d77\",\"#00d4b1\"]},\"id\":\"1485\",\"type\":\"CategoricalColorMapper\"},{\"attributes\":{\"attribution\":\"&copy; <a href=\\\"https://www.openstreetmap.org/copyright\\\">OpenStreetMap</a> contributors\",\"url\":\"https://c.tile.openstreetmap.org/{Z}/{X}/{Y}.png\"},\"id\":\"1480\",\"type\":\"WMTSTileSource\"},{\"attributes\":{\"code\":\"\\n        var projections = Bokeh.require(\\\"core/util/projections\\\");\\n        var x = special_vars.data_x\\n        var y = special_vars.data_y\\n        var coords = projections.wgs84_mercator.invert(x, y)\\n        return \\\"\\\" + (coords[1]).toFixed(4)\\n    \"},\"id\":\"1505\",\"type\":\"CustomJSHover\"},{\"attributes\":{\"data\":{\"City\":[\"hamilton\",\"adamstown\",\"saipan\",\"atafu village\",\"hermanus\",\"yeed\",\"talnakh\",\"yellowknife\",\"limoeiro do norte\",\"waitangi\",\"fort bragg\",\"port-aux-francais\",\"west island\",\"holualoa\",\"qaqortoq\",\"vorgashor\",\"santiago de veraguas\",\"grytviken\",\"hanceville\",\"dunedin\",\"whitehorse\",\"bredasdorp\",\"badger\",\"spas-klepiki\",\"oriximina\",\"pacific grove\",\"morris\",\"anadyr\",\"nogliki\",\"vilyuysk\",\"jamestown\",\"ashland\",\"blackmans bay\",\"bethel\",\"lihue\",\"kurumkan\",\"albany\",\"puerto natales\",\"olonkinbyen\",\"swakopmund\",\"shetpe\",\"hami\",\"ribeira grande\",\"margaret river\",\"nemuro\",\"ust-nera\",\"rio grande\",\"paraipaba\",\"nadi\",\"iqaluit\",\"tazovsky\",\"edinburgh of the seven seas\",\"raja\",\"bocas del toro\",\"lompoc\",\"lebu\",\"tura\",\"mopti\",\"puerto ayora\",\"saint-joseph\",\"alice springs\",\"griffith\",\"urzhar\",\"selfoss\",\"redencao\",\"mata-utu\",\"viedma\",\"port elizabeth\",\"kirensk\",\"iskateley\",\"as sanad\",\"invercargill\",\"nar'yan-mar\",\"sao gabriel da cachoeira\",\"haiku-pauwela\",\"la rinconada\",\"tsiombe\",\"ovalle\",\"santa ana\",\"happy valley-goose bay\",\"rongelap\",\"cidade velha\",\"new plymouth\",\"uturoa\",\"ganye\",\"marsassoum\",\"nabire\",\"port mathurin\",\"praia da vitoria\",\"marka\",\"klyuchi\",\"kerikeri\",\"longyearbyen\",\"san antonio de pale\",\"howard springs\",\"toliara\",\"stanley\",\"vyalikaya byerastavitsa\",\"flin flon\",\"sovetskiy\",\"dudinka\",\"zaxo\",\"san patricio\",\"otjimbingwe\",\"altai\",\"el bauga\",\"kaohsiung\",\"zaragoza\",\"camayenne\",\"noumea\",\"ma'rib\",\"tamandare\",\"sur\",\"constantia\",\"piwniczna-zdroj\",\"college\",\"sao joao da barra\",\"melekeok village\",\"bonthe\",\"gulariya\",\"leh\",\"kingston\",\"georgetown\",\"wewak\",\"minas de marcona\",\"afaahiti\",\"udachny\",\"salinas\",\"beyneu\",\"mrkonjic grad\",\"petropavlovsk-kamchatsky\",\"vadso\",\"bilibino\",\"tiksi\",\"shinkafi\",\"arar\",\"tokmok\",\"hanzhong\",\"thompson\",\"ilulissat\",\"nova sintra\",\"grand falls-windsor\",\"vicencia\",\"mil'kovo\",\"boca chica\",\"zemio\",\"susanville\",\"kristiansund\",\"la passe\",\"port augusta\",\"la huerta\",\"ji'an\",\"clearfield\",\"tazacorte\",\"kodiak\",\"mhamid\",\"akrehamn\",\"papatowai\",\"kailua-kona\",\"silvassa\",\"lata\",\"ciudad lazaro cardenas\",\"hampton bays\",\"la'ie\",\"arawa\",\"serres\",\"la cruz\",\"ponta delgada\",\"fort mcmurray\",\"ushuaia\",\"namibe\",\"reggane\",\"krutinka\",\"kapa'a\",\"moratuwa\",\"tofol\",\"tete\",\"yuzhno-kurilsk\",\"trogir\",\"makoua\",\"khorixas\",\"petropavlovka\",\"wailua homesteads\",\"crane\",\"colonia\",\"tolanaro\",\"bamyan\",\"mount pearl\",\"dawson creek\",\"avarua\",\"villa yapacani\",\"psachna\",\"ola\",\"baruun-urt\",\"gantang\",\"queenstown\",\"kilinochchi\",\"tanda\",\"midvagur\",\"enewetak\",\"coracora\",\"dailekh\",\"dali\",\"mugia\",\"roma\",\"priargunsk\",\"copala\",\"choma\",\"opelousas\",\"hadibu\",\"dickinson\",\"ancud\",\"port saint john's\",\"hilo\",\"labytnangi\",\"shar\",\"belozersk\",\"businga\",\"cill airne\",\"aswan\",\"saldanha\",\"luderitz\",\"malegaon\",\"kish\",\"howrah\",\"carora\",\"klaksvik\",\"new norfolk\",\"bengkulu\",\"cacheu\",\"aasiaat\",\"illizi\",\"hawaiian paradise park\",\"hammerfest\",\"santa catarina juquila\",\"sisimiut\",\"codrington\",\"media luna\",\"yeppoon\",\"katsuren-haebaru\",\"manta\",\"frydlant\",\"silver city\",\"shushtar\",\"sosnovo-ozerskoye\",\"praya\",\"salekhard\",\"makungu\",\"zaozersk\",\"coahuayana de hidalgo\",\"nizhnyaya salda\",\"myanaung\",\"cabo san lucas\",\"ebon\",\"zhanibek\",\"pangody\",\"jacmel\",\"port alfred\",\"cururupu\",\"mahanje\",\"bel ombre\",\"namtsy\",\"eirunepe\",\"guerrero negro\",\"sines\",\"sundsvall\",\"punta arenas\",\"awjilah\",\"hithadhoo\",\"joplin\",\"labrador city\",\"esmeraldas\",\"chiredzi\",\"mount isa\",\"sept-iles\",\"ordynskoye\",\"prince rupert\",\"saint augustine beach\",\"kapuskasing\",\"yreka\",\"narvik\",\"isafjordur\",\"zeya\",\"al abyar\",\"gadzhiyevo\",\"skovorodino\",\"mana\",\"salalah\",\"erenhot\",\"cherepovets\",\"karratha\",\"kasungu\",\"touros\",\"bubaque\",\"meulaboh\",\"amga\",\"bodaybo\",\"utrik\",\"makokou\",\"minab\",\"belaya kholunitsa\",\"le port\",\"usogorsk\",\"remire-montjoly\",\"tweed heads\",\"kobayashi\",\"montepuez\",\"piacabucu\",\"khorinsk\",\"pont rouge\",\"daru\",\"susuman\",\"smithers\",\"pickering\",\"kone\",\"sao vicente\",\"rabo de peixe\",\"arno\",\"kolondieba\",\"freetown\",\"st. paul\",\"pyinmana\",\"xanxere\",\"saint-hippolyte\",\"sittwe\",\"berezovyy\",\"banda aceh\",\"aykhal\",\"balykshi\",\"yuci\",\"tual\",\"fuling\",\"weno\",\"limbazi\",\"pisco\",\"letlhakane\",\"rakops\",\"tyumentsevo\",\"mossel bay\",\"vernon\",\"inhambane\",\"inyonga\",\"mar del plata\",\"kindu\",\"zharkent\",\"mount gambier\",\"dengzhou\",\"katabu\",\"bayanaul\",\"bourgoin-jallieu\",\"camapua\",\"lerwick\",\"ostashkov\",\"yabelo\",\"yemel'yanovo\",\"san juan nepomuceno\",\"callaway\",\"tannum sands\",\"northam\",\"rudbar\",\"dalai\",\"sheridan\",\"bawshar\",\"leiyang\",\"ebaye\",\"kharan\",\"magadan\",\"nuuk\",\"coquimbo\",\"mubi\",\"kununurra\",\"bintulu\",\"makarov\",\"as sulayyil\",\"dul'durga\",\"oodweyne\",\"chonchi\",\"uliastay\",\"mumford\",\"pitogo\",\"nuku'alofa\",\"yigo village\",\"st. john's\",\"newman\",\"dolores\",\"pak chong\",\"iron river\",\"bordj ghdir\",\"prineville\",\"hailey\",\"al hasakah\",\"nova vicosa\",\"mocajuba\",\"villamontes\",\"arkhangel'sk\",\"kansk\",\"tianjin\",\"barra de santo antonio\",\"bouna\",\"mangrol\",\"port lincoln\",\"saraburi\",\"alofi\",\"batie\",\"piti village\",\"san pedro pochutla\",\"conception bay south\",\"cockburn town\",\"esil\",\"pechora\",\"edson\",\"fort st. john\",\"nefteyugansk\",\"yarmouth\",\"tongshan\",\"petoskey\",\"sangmelima\",\"flying fish cove\",\"ban mai\",\"sitka\",\"arua\",\"daltonganj\",\"nola\",\"chui\",\"ventnor\",\"pahrump\",\"lazaro cardenas\",\"webster city\",\"majene\",\"caleta de carquin\",\"kingaroy\",\"tindouf\",\"lionel town\",\"castillos\",\"macapa\",\"eyl\",\"usinsk\",\"buala\",\"saint-pierre\",\"acarau\",\"aragarcas\",\"banjar\",\"aginskoye\",\"nema\",\"chu\",\"nieuw amsterdam\",\"kaindy\",\"gamba\",\"fale old settlement\",\"langarud\",\"sao gabriel\",\"arraial do cabo\",\"houma\",\"paita\",\"tacuarembo\",\"owando\",\"la sarre\",\"khandyga\",\"ugoofaaru\",\"recani\",\"polyarnyy\",\"bahir dar\",\"olyokminsk\",\"anna regina\",\"yemva\",\"eisenstadt\",\"boundiali\",\"hafar al-batin\",\"kismayo\",\"saynshand\",\"egilsstadir\",\"puttalam\",\"pandan\",\"plastun\",\"aljustrel\",\"fort-shevchenko\",\"mooloolaba\",\"villa luvianos\",\"arzgir\",\"east london\",\"kambar\",\"shillong\",\"schiffdorf\",\"neryungri\",\"taishan\",\"pirallahi\",\"ciudad acuna\",\"tvoroyri\",\"karoi\",\"saint-denis\",\"tezu\",\"hotan\",\"kavaratti\",\"las vegas\",\"revda\",\"shimoda\",\"ndende\",\"portland\",\"dubbo\",\"beaufort\",\"nouadhibou\",\"aban\",\"iquique\",\"bayanhongor\",\"biryusinsk\",\"chadron\",\"margate\",\"aigues-mortes\",\"xilin hot\",\"tayshet\",\"fujin\",\"wynyard\",\"nguigmi\",\"antsiranana\",\"burhanpur\",\"at taj\",\"bardai\",\"san fernando de apure\",\"kidal\",\"gillette\",\"abepura\",\"arrifes\",\"bereeda\",\"brookings\",\"greymouth\",\"kudahuvadhoo\",\"puerto san jose\",\"mahibadhoo\",\"dryden\",\"fomboni\",\"bikenibeu village\",\"al kharijah\",\"port-gentil\",\"mejit\",\"port macquarie\",\"villa gesell\",\"tabuk\",\"sarupathar\",\"porbandar\",\"cumaral\",\"beyla\",\"myitkyina\",\"ust'-uda\",\"pangkalanbuun\",\"hasaki\",\"san fernando\",\"tateyama\",\"douz\",\"merowe\",\"skole\",\"luba\",\"harstad\",\"la peca\",\"znamenskoye\",\"vila franca do campo\",\"kavieng\",\"hirara\",\"chabahar\",\"idri\",\"krasnoarmeysk\",\"nagqu\",\"vorkuta\",\"kangding\",\"okhotsk\",\"mariestad\",\"keren\"],\"Humidity\":[50,70,89,74,78,53,98,100,82,76,87,67,89,91,74,89,43,92,97,81,60,68,75,67,76,100,74,85,98,88,47,55,87,84,82,62,69,76,95,71,46,10,82,72,63,91,61,73,78,86,93,77,36,68,100,68,38,7,86,79,82,41,45,96,98,74,39,81,97,87,21,97,88,79,88,21,82,57,87,57,82,51,65,79,24,12,90,80,64,74,44,93,69,70,95,73,68,60,92,94,99,42,83,29,47,10,70,24,58,99,26,73,65,54,10,72,63,89,61,20,63,77,94,84,64,82,96,64,40,57,51,75,89,86,21,7,43,57,56,72,75,61,44,63,70,74,38,81,80,68,25,77,40,69,87,6,61,93,91,67,43,55,83,91,90,53,42,82,70,70,67,5,41,82,82,80,69,63,52,63,24,74,82,39,33,82,26,82,36,78,63,65,78,32,86,43,83,27,56,78,49,40,57,75,46,57,57,49,94,69,81,94,88,86,94,44,77,54,82,9,79,64,33,83,88,43,76,68,90,14,87,9,89,61,23,83,84,61,85,73,66,45,22,12,84,51,95,93,92,37,74,44,75,76,44,94,71,84,63,76,79,100,53,73,50,87,61,25,73,92,76,49,50,77,92,50,75,73,65,50,83,51,80,47,87,95,82,79,23,54,49,78,85,70,93,99,98,83,87,50,91,90,89,83,94,74,80,67,75,65,88,99,65,49,91,61,82,63,9,59,54,29,57,60,74,91,80,97,72,81,77,81,100,41,78,27,26,46,77,29,83,79,68,85,21,89,67,94,39,60,64,56,91,82,76,48,91,73,90,13,71,65,54,87,89,23,78,81,82,14,88,94,71,18,48,60,92,51,77,85,94,82,82,54,38,67,92,14,53,53,26,62,97,73,49,97,94,74,35,81,80,64,88,35,83,46,79,74,34,88,36,49,100,74,82,62,91,84,78,81,82,31,62,50,94,19,55,34,89,74,97,6,54,56,79,73,87,81,73,85,55,91,38,87,27,66,43,74,74,91,50,74,94,69,43,76,69,98,75,7,86,68,93,82,72,33,17,28,77,18,64,78,84,64,15,64,95,14,66,73,25,59,70,91,90,79,39,95,48,62,47,39,67,18,64,71,71,72,71,95,68,99,65,46,99,44,68,72,17,99,45,99,13,79,46,9,25,45,4,56,83,82,67,39,91,73,58,75,93,79,74,13,74,82,92,63,87,49,76,76,23,38,94,97,67,72,70,13,8,56,83,97,76,49,76,80,88,71,7,46,72,89,97,91,71,42],\"Lat\":{\"__ndarray__\":\"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\",\"dtype\":\"float64\",\"order\":\"little\",\"shape\":[566]},\"Lng\":{\"__ndarray__\":\"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\",\"dtype\":\"float64\",\"order\":\"little\",\"shape\":[566]},\"color\":[\"hamilton\",\"adamstown\",\"saipan\",\"atafu village\",\"hermanus\",\"yeed\",\"talnakh\",\"yellowknife\",\"limoeiro do norte\",\"waitangi\",\"fort bragg\",\"port-aux-francais\",\"west island\",\"holualoa\",\"qaqortoq\",\"vorgashor\",\"santiago de veraguas\",\"grytviken\",\"hanceville\",\"dunedin\",\"whitehorse\",\"bredasdorp\",\"badger\",\"spas-klepiki\",\"oriximina\",\"pacific grove\",\"morris\",\"anadyr\",\"nogliki\",\"vilyuysk\",\"jamestown\",\"ashland\",\"blackmans bay\",\"bethel\",\"lihue\",\"kurumkan\",\"albany\",\"puerto natales\",\"olonkinbyen\",\"swakopmund\",\"shetpe\",\"hami\",\"ribeira grande\",\"margaret river\",\"nemuro\",\"ust-nera\",\"rio grande\",\"paraipaba\",\"nadi\",\"iqaluit\",\"tazovsky\",\"edinburgh of the seven seas\",\"raja\",\"bocas del toro\",\"lompoc\",\"lebu\",\"tura\",\"mopti\",\"puerto ayora\",\"saint-joseph\",\"alice springs\",\"griffith\",\"urzhar\",\"selfoss\",\"redencao\",\"mata-utu\",\"viedma\",\"port elizabeth\",\"kirensk\",\"iskateley\",\"as sanad\",\"invercargill\",\"nar'yan-mar\",\"sao gabriel da cachoeira\",\"haiku-pauwela\",\"la rinconada\",\"tsiombe\",\"ovalle\",\"santa ana\",\"happy valley-goose bay\",\"rongelap\",\"cidade velha\",\"new plymouth\",\"uturoa\",\"ganye\",\"marsassoum\",\"nabire\",\"port mathurin\",\"praia da vitoria\",\"marka\",\"klyuchi\",\"kerikeri\",\"longyearbyen\",\"san antonio de pale\",\"howard springs\",\"toliara\",\"stanley\",\"vyalikaya byerastavitsa\",\"flin flon\",\"sovetskiy\",\"dudinka\",\"zaxo\",\"san patricio\",\"otjimbingwe\",\"altai\",\"el bauga\",\"kaohsiung\",\"zaragoza\",\"camayenne\",\"noumea\",\"ma'rib\",\"tamandare\",\"sur\",\"constantia\",\"piwniczna-zdroj\",\"college\",\"sao joao da barra\",\"melekeok village\",\"bonthe\",\"gulariya\",\"leh\",\"kingston\",\"georgetown\",\"wewak\",\"minas de marcona\",\"afaahiti\",\"udachny\",\"salinas\",\"beyneu\",\"mrkonjic grad\",\"petropavlovsk-kamchatsky\",\"vadso\",\"bilibino\",\"tiksi\",\"shinkafi\",\"arar\",\"tokmok\",\"hanzhong\",\"thompson\",\"ilulissat\",\"nova sintra\",\"grand falls-windsor\",\"vicencia\",\"mil'kovo\",\"boca chica\",\"zemio\",\"susanville\",\"kristiansund\",\"la passe\",\"port augusta\",\"la huerta\",\"ji'an\",\"clearfield\",\"tazacorte\",\"kodiak\",\"mhamid\",\"akrehamn\",\"papatowai\",\"kailua-kona\",\"silvassa\",\"lata\",\"ciudad lazaro cardenas\",\"hampton bays\",\"la'ie\",\"arawa\",\"serres\",\"la cruz\",\"ponta delgada\",\"fort mcmurray\",\"ushuaia\",\"namibe\",\"reggane\",\"krutinka\",\"kapa'a\",\"moratuwa\",\"tofol\",\"tete\",\"yuzhno-kurilsk\",\"trogir\",\"makoua\",\"khorixas\",\"petropavlovka\",\"wailua homesteads\",\"crane\",\"colonia\",\"tolanaro\",\"bamyan\",\"mount pearl\",\"dawson creek\",\"avarua\",\"villa yapacani\",\"psachna\",\"ola\",\"baruun-urt\",\"gantang\",\"queenstown\",\"kilinochchi\",\"tanda\",\"midvagur\",\"enewetak\",\"coracora\",\"dailekh\",\"dali\",\"mugia\",\"roma\",\"priargunsk\",\"copala\",\"choma\",\"opelousas\",\"hadibu\",\"dickinson\",\"ancud\",\"port saint john's\",\"hilo\",\"labytnangi\",\"shar\",\"belozersk\",\"businga\",\"cill airne\",\"aswan\",\"saldanha\",\"luderitz\",\"malegaon\",\"kish\",\"howrah\",\"carora\",\"klaksvik\",\"new norfolk\",\"bengkulu\",\"cacheu\",\"aasiaat\",\"illizi\",\"hawaiian paradise park\",\"hammerfest\",\"santa catarina juquila\",\"sisimiut\",\"codrington\",\"media luna\",\"yeppoon\",\"katsuren-haebaru\",\"manta\",\"frydlant\",\"silver city\",\"shushtar\",\"sosnovo-ozerskoye\",\"praya\",\"salekhard\",\"makungu\",\"zaozersk\",\"coahuayana de hidalgo\",\"nizhnyaya salda\",\"myanaung\",\"cabo san lucas\",\"ebon\",\"zhanibek\",\"pangody\",\"jacmel\",\"port alfred\",\"cururupu\",\"mahanje\",\"bel ombre\",\"namtsy\",\"eirunepe\",\"guerrero negro\",\"sines\",\"sundsvall\",\"punta arenas\",\"awjilah\",\"hithadhoo\",\"joplin\",\"labrador city\",\"esmeraldas\",\"chiredzi\",\"mount isa\",\"sept-iles\",\"ordynskoye\",\"prince rupert\",\"saint augustine beach\",\"kapuskasing\",\"yreka\",\"narvik\",\"isafjordur\",\"zeya\",\"al abyar\",\"gadzhiyevo\",\"skovorodino\",\"mana\",\"salalah\",\"erenhot\",\"cherepovets\",\"karratha\",\"kasungu\",\"touros\",\"bubaque\",\"meulaboh\",\"amga\",\"bodaybo\",\"utrik\",\"makokou\",\"minab\",\"belaya kholunitsa\",\"le port\",\"usogorsk\",\"remire-montjoly\",\"tweed heads\",\"kobayashi\",\"montepuez\",\"piacabucu\",\"khorinsk\",\"pont rouge\",\"daru\",\"susuman\",\"smithers\",\"pickering\",\"kone\",\"sao vicente\",\"rabo de peixe\",\"arno\",\"kolondieba\",\"freetown\",\"st. paul\",\"pyinmana\",\"xanxere\",\"saint-hippolyte\",\"sittwe\",\"berezovyy\",\"banda aceh\",\"aykhal\",\"balykshi\",\"yuci\",\"tual\",\"fuling\",\"weno\",\"limbazi\",\"pisco\",\"letlhakane\",\"rakops\",\"tyumentsevo\",\"mossel bay\",\"vernon\",\"inhambane\",\"inyonga\",\"mar del plata\",\"kindu\",\"zharkent\",\"mount gambier\",\"dengzhou\",\"katabu\",\"bayanaul\",\"bourgoin-jallieu\",\"camapua\",\"lerwick\",\"ostashkov\",\"yabelo\",\"yemel'yanovo\",\"san juan nepomuceno\",\"callaway\",\"tannum sands\",\"northam\",\"rudbar\",\"dalai\",\"sheridan\",\"bawshar\",\"leiyang\",\"ebaye\",\"kharan\",\"magadan\",\"nuuk\",\"coquimbo\",\"mubi\",\"kununurra\",\"bintulu\",\"makarov\",\"as sulayyil\",\"dul'durga\",\"oodweyne\",\"chonchi\",\"uliastay\",\"mumford\",\"pitogo\",\"nuku'alofa\",\"yigo village\",\"st. john's\",\"newman\",\"dolores\",\"pak chong\",\"iron river\",\"bordj ghdir\",\"prineville\",\"hailey\",\"al hasakah\",\"nova vicosa\",\"mocajuba\",\"villamontes\",\"arkhangel'sk\",\"kansk\",\"tianjin\",\"barra de santo antonio\",\"bouna\",\"mangrol\",\"port lincoln\",\"saraburi\",\"alofi\",\"batie\",\"piti village\",\"san pedro pochutla\",\"conception bay south\",\"cockburn town\",\"esil\",\"pechora\",\"edson\",\"fort st. john\",\"nefteyugansk\",\"yarmouth\",\"tongshan\",\"petoskey\",\"sangmelima\",\"flying fish cove\",\"ban mai\",\"sitka\",\"arua\",\"daltonganj\",\"nola\",\"chui\",\"ventnor\",\"pahrump\",\"lazaro cardenas\",\"webster city\",\"majene\",\"caleta de carquin\",\"kingaroy\",\"tindouf\",\"lionel town\",\"castillos\",\"macapa\",\"eyl\",\"usinsk\",\"buala\",\"saint-pierre\",\"acarau\",\"aragarcas\",\"banjar\",\"aginskoye\",\"nema\",\"chu\",\"nieuw amsterdam\",\"kaindy\",\"gamba\",\"fale old settlement\",\"langarud\",\"sao gabriel\",\"arraial do cabo\",\"houma\",\"paita\",\"tacuarembo\",\"owando\",\"la sarre\",\"khandyga\",\"ugoofaaru\",\"recani\",\"polyarnyy\",\"bahir dar\",\"olyokminsk\",\"anna regina\",\"yemva\",\"eisenstadt\",\"boundiali\",\"hafar al-batin\",\"kismayo\",\"saynshand\",\"egilsstadir\",\"puttalam\",\"pandan\",\"plastun\",\"aljustrel\",\"fort-shevchenko\",\"mooloolaba\",\"villa luvianos\",\"arzgir\",\"east london\",\"kambar\",\"shillong\",\"schiffdorf\",\"neryungri\",\"taishan\",\"pirallahi\",\"ciudad acuna\",\"tvoroyri\",\"karoi\",\"saint-denis\",\"tezu\",\"hotan\",\"kavaratti\",\"las vegas\",\"revda\",\"shimoda\",\"ndende\",\"portland\",\"dubbo\",\"beaufort\",\"nouadhibou\",\"aban\",\"iquique\",\"bayanhongor\",\"biryusinsk\",\"chadron\",\"margate\",\"aigues-mortes\",\"xilin hot\",\"tayshet\",\"fujin\",\"wynyard\",\"nguigmi\",\"antsiranana\",\"burhanpur\",\"at taj\",\"bardai\",\"san fernando de apure\",\"kidal\",\"gillette\",\"abepura\",\"arrifes\",\"bereeda\",\"brookings\",\"greymouth\",\"kudahuvadhoo\",\"puerto san jose\",\"mahibadhoo\",\"dryden\",\"fomboni\",\"bikenibeu village\",\"al kharijah\",\"port-gentil\",\"mejit\",\"port macquarie\",\"villa gesell\",\"tabuk\",\"sarupathar\",\"porbandar\",\"cumaral\",\"beyla\",\"myitkyina\",\"ust'-uda\",\"pangkalanbuun\",\"hasaki\",\"san fernando\",\"tateyama\",\"douz\",\"merowe\",\"skole\",\"luba\",\"harstad\",\"la peca\",\"znamenskoye\",\"vila franca do campo\",\"kavieng\",\"hirara\",\"chabahar\",\"idri\",\"krasnoarmeysk\",\"nagqu\",\"vorkuta\",\"kangding\",\"okhotsk\",\"mariestad\",\"keren\"],\"size\":{\"__ndarray__\":\"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\",\"dtype\":\"float64\",\"order\":\"little\",\"shape\":[566]}},\"selected\":{\"id\":\"1487\"},\"selection_policy\":{\"id\":\"1499\"}},\"id\":\"1486\",\"type\":\"ColumnDataSource\"},{\"attributes\":{},\"id\":\"1460\",\"type\":\"AllLabels\"},{\"attributes\":{\"bottom_units\":\"screen\",\"coordinates\":null,\"fill_alpha\":0.5,\"fill_color\":\"lightgrey\",\"group\":null,\"left_units\":\"screen\",\"level\":\"overlay\",\"line_alpha\":1.0,\"line_color\":\"black\",\"line_dash\":[4,4],\"line_width\":2,\"right_units\":\"screen\",\"syncable\":false,\"top_units\":\"screen\"},\"id\":\"1444\",\"type\":\"BoxAnnotation\"},{\"attributes\":{\"dimension\":\"lat\"},\"id\":\"1457\",\"type\":\"MercatorTickFormatter\"},{\"attributes\":{\"end\":16667782.964865487,\"min_interval\":5,\"reset_end\":16667782.964865487,\"reset_start\":-9504139.925670017,\"start\":-9504139.925670017,\"tags\":[[[\"Lat\",\"Lat\",null]]]},\"id\":\"1416\",\"type\":\"Range1d\"},{\"attributes\":{\"fill_alpha\":{\"value\":0.7},\"fill_color\":{\"field\":\"color\",\"transform\":{\"id\":\"1485\"}},\"hatch_alpha\":{\"value\":0.7},\"hatch_color\":{\"field\":\"color\",\"transform\":{\"id\":\"1485\"}},\"line_alpha\":{\"value\":0.7},\"line_color\":{\"field\":\"color\",\"transform\":{\"id\":\"1485\"}},\"size\":{\"field\":\"size\"},\"x\":{\"field\":\"Lng\"},\"y\":{\"field\":\"Lat\"}},\"id\":\"1492\",\"type\":\"Scatter\"},{\"attributes\":{\"below\":[{\"id\":\"1431\"}],\"center\":[{\"id\":\"1434\"},{\"id\":\"1438\"}],\"frame_height\":504,\"frame_width\":896,\"height\":null,\"left\":[{\"id\":\"1435\"}],\"margin\":[5,5,5,5],\"match_aspect\":true,\"min_border_bottom\":10,\"min_border_left\":10,\"min_border_right\":10,\"min_border_top\":10,\"renderers\":[{\"id\":\"1483\"},{\"id\":\"1494\"}],\"right\":[{\"id\":\"1502\"}],\"sizing_mode\":\"fixed\",\"title\":{\"id\":\"1423\"},\"toolbar\":{\"id\":\"1445\"},\"width\":null,\"x_range\":{\"id\":\"1415\"},\"x_scale\":{\"id\":\"1427\"},\"y_range\":{\"id\":\"1416\"},\"y_scale\":{\"id\":\"1429\"}},\"id\":\"1422\",\"subtype\":\"Figure\",\"type\":\"Plot\"},{\"attributes\":{},\"id\":\"1499\",\"type\":\"UnionRenderers\"},{\"attributes\":{\"click_policy\":\"mute\",\"coordinates\":null,\"group\":null,\"items\":[{\"id\":\"1503\"}],\"location\":[0,0]},\"id\":\"1502\",\"type\":\"Legend\"},{\"attributes\":{\"axis\":{\"id\":\"1431\"},\"coordinates\":null,\"grid_line_color\":null,\"group\":null,\"ticker\":null},\"id\":\"1434\",\"type\":\"Grid\"},{\"attributes\":{\"match_aspect\":true,\"overlay\":{\"id\":\"1444\"}},\"id\":\"1442\",\"type\":\"BoxZoomTool\"},{\"attributes\":{\"fill_alpha\":{\"value\":0.7},\"fill_color\":{\"field\":\"color\",\"transform\":{\"id\":\"1485\"}},\"hatch_alpha\":{\"value\":0.1},\"hatch_color\":{\"field\":\"color\",\"transform\":{\"id\":\"1485\"}},\"line_alpha\":{\"value\":0.7},\"line_color\":{\"field\":\"color\",\"transform\":{\"id\":\"1485\"}},\"size\":{\"field\":\"size\"},\"x\":{\"field\":\"Lng\"},\"y\":{\"field\":\"Lat\"}},\"id\":\"1490\",\"type\":\"Scatter\"},{\"attributes\":{},\"id\":\"1443\",\"type\":\"ResetTool\"},{\"attributes\":{},\"id\":\"1439\",\"type\":\"SaveTool\"},{\"attributes\":{\"source\":{\"id\":\"1486\"}},\"id\":\"1495\",\"type\":\"CDSView\"},{\"attributes\":{\"coordinates\":null,\"group\":null,\"text_color\":\"black\",\"text_font_size\":\"12pt\"},\"id\":\"1423\",\"type\":\"Title\"},{\"attributes\":{\"end\":23315338.799102113,\"min_interval\":5,\"reset_end\":23315338.799102113,\"reset_start\":-23212524.117405448,\"start\":-23212524.117405448,\"tags\":[[[\"Lng\",\"Lng\",null]]]},\"id\":\"1415\",\"type\":\"Range1d\"}],\"root_ids\":[\"1409\"]},\"title\":\"Bokeh Application\",\"version\":\"2.4.3\"}};\n",
       "    var render_items = [{\"docid\":\"aad312d0-1cff-44d4-a41e-19da43daff1d\",\"root_ids\":[\"1409\"],\"roots\":{\"1409\":\"b6730a81-4721-4508-beee-66616d285643\"}}];\n",
       "    root.Bokeh.embed.embed_items_notebook(docs_json, render_items);\n",
       "  }\n",
       "  if (root.Bokeh !== undefined && root.Bokeh.Panel !== undefined) {\n",
       "    embed_document(root);\n",
       "  } else {\n",
       "    var attempts = 0;\n",
       "    var timer = setInterval(function(root) {\n",
       "      if (root.Bokeh !== undefined && root.Bokeh.Panel !== undefined) {\n",
       "        clearInterval(timer);\n",
       "        embed_document(root);\n",
       "      } else if (document.readyState == \"complete\") {\n",
       "        attempts++;\n",
       "        if (attempts > 200) {\n",
       "          clearInterval(timer);\n",
       "          console.log(\"Bokeh: ERROR: Unable to run BokehJS code because BokehJS library is missing\");\n",
       "        }\n",
       "      }\n",
       "    }, 25, root)\n",
       "  }\n",
       "})(window);</script>"
      ],
      "text/plain": [
       ":Overlay\n",
       "   .Tiles.I  :Tiles   [x,y]\n",
       "   .Points.I :Points   [Lng,Lat]   (City,Humidity)"
      ]
     },
     "execution_count": 22,
     "metadata": {
      "application/vnd.holoviews_exec.v0+json": {
       "id": "1409"
      }
     },
     "output_type": "execute_result"
    }
   ],
   "source": [
    "#%%capture --no-display\n",
    "\n",
    "# Configure the map plot\n",
    "humidityPlot = city_data_df.hvplot.points(\n",
    "    \"Lng\",\n",
    "    \"Lat\",\n",
    "    geo=True,\n",
    "    size= \"Humidity\",\n",
    "    scale=1, \n",
    "    color=\"City\",\n",
    "    alpha= 0.7,\n",
    "    tiles= \"OSM\",\n",
    "    frame_height= 504,\n",
    "    frame_width=896,\n",
    "    hover_cols = [\"City\", \"Humidity\"]\n",
    ")\n",
    "\n",
    "# Display the map\n",
    "humidityPlot"
   ]
  },
  {
   "cell_type": "markdown",
   "metadata": {},
   "source": [
    "### Step 2: Narrow down the `city_data_df` DataFrame to find your ideal weather condition"
   ]
  },
  {
   "cell_type": "code",
   "execution_count": 23,
   "metadata": {},
   "outputs": [
    {
     "name": "stdout",
     "output_type": "stream",
     "text": [
      "2\n"
     ]
    },
    {
     "data": {
      "text/html": [
       "<div>\n",
       "<style scoped>\n",
       "    .dataframe tbody tr th:only-of-type {\n",
       "        vertical-align: middle;\n",
       "    }\n",
       "\n",
       "    .dataframe tbody tr th {\n",
       "        vertical-align: top;\n",
       "    }\n",
       "\n",
       "    .dataframe thead th {\n",
       "        text-align: right;\n",
       "    }\n",
       "</style>\n",
       "<table border=\"1\" class=\"dataframe\">\n",
       "  <thead>\n",
       "    <tr style=\"text-align: right;\">\n",
       "      <th></th>\n",
       "      <th>City_ID</th>\n",
       "      <th>City</th>\n",
       "      <th>Lat</th>\n",
       "      <th>Lng</th>\n",
       "      <th>Max Temp</th>\n",
       "      <th>Humidity</th>\n",
       "      <th>Cloudiness</th>\n",
       "      <th>Wind Speed</th>\n",
       "      <th>Country</th>\n",
       "      <th>Date</th>\n",
       "    </tr>\n",
       "  </thead>\n",
       "  <tbody>\n",
       "    <tr>\n",
       "      <th>166</th>\n",
       "      <td>166</td>\n",
       "      <td>la cruz</td>\n",
       "      <td>23.9167</td>\n",
       "      <td>-106.9000</td>\n",
       "      <td>78.71</td>\n",
       "      <td>42</td>\n",
       "      <td>0</td>\n",
       "      <td>2.77</td>\n",
       "      <td>MX</td>\n",
       "      <td>1682612392</td>\n",
       "    </tr>\n",
       "    <tr>\n",
       "      <th>493</th>\n",
       "      <td>493</td>\n",
       "      <td>las vegas</td>\n",
       "      <td>36.1750</td>\n",
       "      <td>-115.1372</td>\n",
       "      <td>78.82</td>\n",
       "      <td>18</td>\n",
       "      <td>0</td>\n",
       "      <td>3.44</td>\n",
       "      <td>US</td>\n",
       "      <td>1682612579</td>\n",
       "    </tr>\n",
       "  </tbody>\n",
       "</table>\n",
       "</div>"
      ],
      "text/plain": [
       "     City_ID       City      Lat       Lng  Max Temp  Humidity  Cloudiness  \\\n",
       "166      166    la cruz  23.9167 -106.9000     78.71        42           0   \n",
       "493      493  las vegas  36.1750 -115.1372     78.82        18           0   \n",
       "\n",
       "     Wind Speed Country        Date  \n",
       "166        2.77      MX  1682612392  \n",
       "493        3.44      US  1682612579  "
      ]
     },
     "execution_count": 23,
     "metadata": {},
     "output_type": "execute_result"
    }
   ],
   "source": [
    "# Narrow down cities that fit criteria and drop any results with null values\n",
    "# max temp: 27 C ~ 80.6 F\n",
    "# min temp: 21 C ~ 69.8 F\n",
    "# wind < 4.5\n",
    "# cloudiness = 0\n",
    "\n",
    "idealCityDF = city_data_df.loc[\n",
    "    (city_data_df[\"Max Temp\"] > 69.8) & (city_data_df[\"Max Temp\"] < 80.6) \\\n",
    "    & (city_data_df[\"Wind Speed\"] < 4.5) \\\n",
    "    & (city_data_df[\"Cloudiness\"] == 0)\n",
    "    \n",
    "]\n",
    "\n",
    "# Drop any rows with null values\n",
    "idealCityDF = idealCityDF.dropna()\n",
    "\n",
    "# Display sample data\n",
    "print(len(idealCityDF))\n",
    "idealCityDF.head()"
   ]
  },
  {
   "cell_type": "markdown",
   "metadata": {},
   "source": [
    "### Step 3: Create a new DataFrame called `hotel_df`."
   ]
  },
  {
   "cell_type": "code",
   "execution_count": 24,
   "metadata": {},
   "outputs": [
    {
     "data": {
      "text/html": [
       "<div>\n",
       "<style scoped>\n",
       "    .dataframe tbody tr th:only-of-type {\n",
       "        vertical-align: middle;\n",
       "    }\n",
       "\n",
       "    .dataframe tbody tr th {\n",
       "        vertical-align: top;\n",
       "    }\n",
       "\n",
       "    .dataframe thead th {\n",
       "        text-align: right;\n",
       "    }\n",
       "</style>\n",
       "<table border=\"1\" class=\"dataframe\">\n",
       "  <thead>\n",
       "    <tr style=\"text-align: right;\">\n",
       "      <th></th>\n",
       "      <th>City</th>\n",
       "      <th>Country</th>\n",
       "      <th>Lat</th>\n",
       "      <th>Lng</th>\n",
       "      <th>Humidity</th>\n",
       "      <th>Hotel Name</th>\n",
       "    </tr>\n",
       "  </thead>\n",
       "  <tbody>\n",
       "    <tr>\n",
       "      <th>166</th>\n",
       "      <td>la cruz</td>\n",
       "      <td>MX</td>\n",
       "      <td>23.9167</td>\n",
       "      <td>-106.9000</td>\n",
       "      <td>42</td>\n",
       "      <td></td>\n",
       "    </tr>\n",
       "    <tr>\n",
       "      <th>493</th>\n",
       "      <td>las vegas</td>\n",
       "      <td>US</td>\n",
       "      <td>36.1750</td>\n",
       "      <td>-115.1372</td>\n",
       "      <td>18</td>\n",
       "      <td></td>\n",
       "    </tr>\n",
       "  </tbody>\n",
       "</table>\n",
       "</div>"
      ],
      "text/plain": [
       "          City Country      Lat       Lng  Humidity Hotel Name\n",
       "166    la cruz      MX  23.9167 -106.9000        42           \n",
       "493  las vegas      US  36.1750 -115.1372        18           "
      ]
     },
     "execution_count": 24,
     "metadata": {},
     "output_type": "execute_result"
    }
   ],
   "source": [
    "# Use the Pandas copy function to create DataFrame called hotel_df to store the city, country, coordinates, and humidity\n",
    "hotel_df = idealCityDF[[\"City\", \"Country\", \"Lat\", \"Lng\", \"Humidity\"]].copy()\n",
    "\n",
    "# Add an empty column, \"Hotel Name,\" to the DataFrame so you can store the hotel found using the Geoapify API\n",
    "hotel_df[\"Hotel Name\"] = \"\"\n",
    "\n",
    "# Display sample data\n",
    "hotel_df"
   ]
  },
  {
   "cell_type": "markdown",
   "metadata": {},
   "source": [
    "### Step 4: For each city, use the Geoapify API to find the first hotel located within 10,000 metres of your coordinates."
   ]
  },
  {
   "cell_type": "code",
   "execution_count": 25,
   "metadata": {},
   "outputs": [
    {
     "name": "stdout",
     "output_type": "stream",
     "text": [
      "Starting hotel search\n",
      "la cruz - nearest hotel: No hotel found\n",
      "las vegas - nearest hotel: No hotel found\n"
     ]
    },
    {
     "data": {
      "text/html": [
       "<div>\n",
       "<style scoped>\n",
       "    .dataframe tbody tr th:only-of-type {\n",
       "        vertical-align: middle;\n",
       "    }\n",
       "\n",
       "    .dataframe tbody tr th {\n",
       "        vertical-align: top;\n",
       "    }\n",
       "\n",
       "    .dataframe thead th {\n",
       "        text-align: right;\n",
       "    }\n",
       "</style>\n",
       "<table border=\"1\" class=\"dataframe\">\n",
       "  <thead>\n",
       "    <tr style=\"text-align: right;\">\n",
       "      <th></th>\n",
       "      <th>City</th>\n",
       "      <th>Country</th>\n",
       "      <th>Lat</th>\n",
       "      <th>Lng</th>\n",
       "      <th>Humidity</th>\n",
       "      <th>Hotel Name</th>\n",
       "    </tr>\n",
       "  </thead>\n",
       "  <tbody>\n",
       "  </tbody>\n",
       "</table>\n",
       "</div>"
      ],
      "text/plain": [
       "Empty DataFrame\n",
       "Columns: [City, Country, Lat, Lng, Humidity, Hotel Name]\n",
       "Index: []"
      ]
     },
     "execution_count": 25,
     "metadata": {},
     "output_type": "execute_result"
    }
   ],
   "source": [
    "# Set parameters to search for a hotel\n",
    "radius = 10000\n",
    "params = {\n",
    "    \"categories\": \"accomodation.hotel\",\n",
    "    \"apiKey\": \"geoaplify_key\",\n",
    "    \"limit\": 1 \n",
    "}\n",
    "\n",
    "# Print a message to follow up the hotel search\n",
    "print(\"Starting hotel search\")\n",
    "\n",
    "# Iterate through the hotel_df DataFrame\n",
    "for index, row in hotel_df.iterrows():\n",
    "    # get latitude, longitude from the DataFrame\n",
    "    latitude = row[\"Lat\"]\n",
    "    longitude = row[\"Lng\"]\n",
    "    \n",
    "    # Add filter and bias parameters with the current city's latitude and longitude to the params dictionary\n",
    "    params[\"filter\"] = f\"circle:{longitude},{latitude},{radius}\"\n",
    "    params[\"bias\"] = f\"proximity:{longitude},{latitude}\"\n",
    "    \n",
    "    # Set base URL\n",
    "    base_url = \"https://api.geoapify.com/v2/places\"\n",
    "\n",
    "\n",
    "    # Make and API request using the params dictionaty\n",
    "    name_address = requests.get(base_url, params=params)\n",
    "    \n",
    "    # Convert the API response to JSON format\n",
    "    name_address = name_address.json()\n",
    "    \n",
    "    # Grab the first hotel from the results and store the name in the hotel_df DataFrame\n",
    "    try:\n",
    "        hotel_df.loc[index, \"Hotel Name\"] = name_address[\"features\"][0][\"properties\"][\"name\"]\n",
    "    except (KeyError, IndexError):\n",
    "        # If no hotel is found, set the hotel name as \"No hotel found\".\n",
    "        hotel_df.loc[index, \"Hotel Name\"] = \"No hotel found\"\n",
    "        \n",
    "    # Log the search results\n",
    "    print(f\"{hotel_df.loc[index, 'City']} - nearest hotel: {hotel_df.loc[index, 'Hotel Name']}\")\n",
    "\n",
    "# Display sample data\n",
    "hotel_df = hotel_df.loc[hotel_df[\"Hotel Name\"] != \"No hotel found\"]\n",
    "hotel_df"
   ]
  },
  {
   "cell_type": "markdown",
   "metadata": {},
   "source": [
    "### Step 5: Add the hotel name and the country as additional information in the hover message for each city in the map."
   ]
  },
  {
   "cell_type": "code",
   "execution_count": null,
   "metadata": {},
   "outputs": [],
   "source": []
  }
 ],
 "metadata": {
  "kernelspec": {
   "display_name": "Python 3 (ipykernel)",
   "language": "python",
   "name": "python3"
  },
  "language_info": {
   "codemirror_mode": {
    "name": "ipython",
    "version": 3
   },
   "file_extension": ".py",
   "mimetype": "text/x-python",
   "name": "python",
   "nbconvert_exporter": "python",
   "pygments_lexer": "ipython3",
   "version": "3.9.13"
  },
  "latex_envs": {
   "LaTeX_envs_menu_present": true,
   "autoclose": false,
   "autocomplete": true,
   "bibliofile": "biblio.bib",
   "cite_by": "apalike",
   "current_citInitial": 1,
   "eqLabelWithNumbers": true,
   "eqNumInitial": 1,
   "hotkeys": {
    "equation": "Ctrl-E",
    "itemize": "Ctrl-I"
   },
   "labels_anchors": false,
   "latex_user_defs": false,
   "report_style_numbering": false,
   "user_envs_cfg": false
  }
 },
 "nbformat": 4,
 "nbformat_minor": 4
}
